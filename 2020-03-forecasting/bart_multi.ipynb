{
 "cells": [
  {
   "cell_type": "markdown",
   "metadata": {},
   "source": [
    "# Forecasting BART hourly ridership (mulivariate)"
   ]
  },
  {
   "cell_type": "code",
   "execution_count": 1,
   "metadata": {},
   "outputs": [],
   "source": [
    "import logging\n",
    "import pyro\n",
    "import pyro.distributions as dist\n",
    "import pyro.poutine as poutine\n",
    "import torch\n",
    "from pyro.infer.autoguide import init_to_sample\n",
    "from pyro.contrib.examples.bart import load_bart_od\n",
    "from pyro.contrib.forecast import Forecaster, ForecastingModel, eval_crps\n",
    "from pyro.ops.tensor_utils import periodic_cumsum, periodic_repeat\n",
    "from pyro.ops.stats import quantile\n",
    "import matplotlib.pyplot as plt\n",
    "\n",
    "from bart_multi import Model\n",
    "\n",
    "%matplotlib inline\n",
    "pyro.enable_validation(True)\n",
    "logging.getLogger(\"pyro\").setLevel(logging.DEBUG)\n",
    "logging.getLogger(\"pyro\").handlers[0].setLevel(logging.DEBUG)"
   ]
  },
  {
   "cell_type": "code",
   "execution_count": 2,
   "metadata": {},
   "outputs": [
    {
     "name": "stdout",
     "output_type": "stream",
     "text": [
      "dict_keys(['stations', 'start_date', 'counts'])\n",
      "torch.Size([78888, 50, 50])\n",
      "12TH 16TH 19TH 24TH ANTC ASHB BALB BAYF BERY CAST CIVC COLM COLS CONC DALY DBRK DELN DUBL EMBR FRMT FTVL GLEN HAYW LAFY LAKE MCAR MLBR MLPT MONT NBRK NCON OAKL ORIN PCTR PHIL PITT PLZA POWL RICH ROCK SANL SBRN SFIA SHAY SSAN UCTY WARM WCRK WDUB WOAK\n",
      "torch.Size([78888, 50, 50]) torch.Size([50, 50, 78888, 1])\n"
     ]
    }
   ],
   "source": [
    "dataset = load_bart_od()\n",
    "print(dataset.keys())\n",
    "print(dataset[\"counts\"].shape)\n",
    "print(\" \".join(dataset[\"stations\"]))\n",
    "\n",
    "data = dataset[\"counts\"].permute(1, 2, 0).unsqueeze(-1).log1p().contiguous()\n",
    "print(dataset[\"counts\"].shape, data.shape)\n",
    "covariates = torch.zeros(data.size(-2), 0)  # empty"
   ]
  },
  {
   "cell_type": "code",
   "execution_count": 3,
   "metadata": {},
   "outputs": [],
   "source": [
    "T0 = 0\n",
    "T1 = 24 * 90\n",
    "T2 = T1 + 24 * 14\n",
    "station = \"EMBR\""
   ]
  },
  {
   "cell_type": "code",
   "execution_count": 4,
   "metadata": {},
   "outputs": [],
   "source": [
    "def init_loc_fn(site):\n",
    "    if site[\"name\"].endswith(\"stability\"):\n",
    "        return torch.full(site[\"fn\"].shape(), 1.9)\n",
    "    if site[\"name\"].endswith(\"dof\"):\n",
    "        return torch.full(site[\"fn\"].shape(), 10.0)\n",
    "    return init_to_sample(site)\n",
    "\n",
    "def create_plates(zero_data, covariates):\n",
    "    num_origins, num_destins, duration, one = zero_data.shape\n",
    "    origin_plate = pyro.plate(\"origin\", num_origins, subsample_size=10, dim=-3)\n",
    "    # We reuse the subsample so that both plates are subsampled identically.\n",
    "    with origin_plate as subsample:\n",
    "        pass\n",
    "    destin_plate = pyro.plate(\"destin\", num_destins, subsample=subsample, dim=-2)\n",
    "    return origin_plate, destin_plate\n",
    "\n",
    "def train(dist_type, num_steps=1001):\n",
    "    pyro.clear_param_store()\n",
    "    pyro.set_rng_seed(20200313)\n",
    "    forecaster = Forecaster(Model(dist_type), data[..., :T1, :], covariates[:T1, :],\n",
    "                            init_loc_fn=init_loc_fn, # create_plates=create_plates,\n",
    "                            learning_rate=0.1, num_steps=num_steps, log_every=100)\n",
    "    for name, value in forecaster.guide.median().items():\n",
    "        if value.numel() == 1:\n",
    "            print(\"{} = {:0.4g}\".format(name, value.item()))\n",
    "    return forecaster\n",
    "            \n",
    "def plot(forecaster):\n",
    "    samples = forecaster(data[..., :T1, :], covariates[:T2, :], num_samples=100)\n",
    "    samples.clamp_(min=0).expm1()\n",
    "    p10, p50, p90 = quantile(samples[..., 0], (0.1, 0.5, 0.9)).squeeze(-1)\n",
    "    crps = eval_crps(samples, data[..., T1:T2, :])\n",
    "    print(samples.shape, p10.shape)\n",
    "\n",
    "    fig, axes = plt.subplots(8, 1, figsize=(9, 10), sharex=True)\n",
    "    plt.subplots_adjust(hspace=0)\n",
    "    j = dataset[\"stations\"].index(station)\n",
    "    axes[0].set_title(\"# hourly arrivals to {} (CRPS = {:0.3g})\"\n",
    "                      .format(station, crps))\n",
    "    for i, ax in enumerate(axes):\n",
    "        ax.fill_between(torch.arange(T1, T2), p10[i, j], p90[i, j], color=\"red\", alpha=0.3)\n",
    "        ax.plot(torch.arange(T1, T2), p50[i, j], 'r-', lw=1, label='forecast')\n",
    "        ax.plot(torch.arange(T1 - 24 * 7, T2),\n",
    "                data[i, j, T1 - 24 * 7: T2, 0], 'k-', lw=1, label='truth')\n",
    "        ax.set_ylabel(\"from {}\".format(dataset[\"stations\"][i]))\n",
    "    ax.set_xlabel(\"Hour after 2011-01-01\")\n",
    "    ax.set_xlim(T1 - 24 * 7, T2)\n",
    "    axes[0].legend(loc=\"upper left\");"
   ]
  },
  {
   "cell_type": "code",
   "execution_count": null,
   "metadata": {},
   "outputs": [
    {
     "name": "stderr",
     "output_type": "stream",
     "text": [
      "INFO \t step    0 loss = 1.46462e+13\n"
     ]
    }
   ],
   "source": [
    "%%time\n",
    "forecaster = train(\"normal\")\n",
    "plot(forecaster)"
   ]
  },
  {
   "cell_type": "code",
   "execution_count": null,
   "metadata": {},
   "outputs": [],
   "source": [
    "%%time\n",
    "forecaster = train(\"stable\")\n",
    "plot(forecaster)"
   ]
  },
  {
   "cell_type": "code",
   "execution_count": null,
   "metadata": {},
   "outputs": [],
   "source": [
    "%%time\n",
    "forecaster = train(\"studentt\")\n",
    "plot(forecaster)"
   ]
  },
  {
   "cell_type": "code",
   "execution_count": null,
   "metadata": {},
   "outputs": [],
   "source": []
  }
 ],
 "metadata": {
  "kernelspec": {
   "display_name": "Python 3",
   "language": "python",
   "name": "python3"
  },
  "language_info": {
   "codemirror_mode": {
    "name": "ipython",
    "version": 3
   },
   "file_extension": ".py",
   "mimetype": "text/x-python",
   "name": "python",
   "nbconvert_exporter": "python",
   "pygments_lexer": "ipython3",
   "version": "3.7.2"
  }
 },
 "nbformat": 4,
 "nbformat_minor": 2
}
