{
 "cells": [
  {
   "cell_type": "markdown",
   "metadata": {},
   "source": [
    "# Forecasting BART hourly ridership (univariate)"
   ]
  },
  {
   "cell_type": "code",
   "execution_count": null,
   "metadata": {},
   "outputs": [],
   "source": [
    "import logging\n",
    "import os\n",
    "import pyro\n",
    "import pyro.distributions as dist\n",
    "import pyro.poutine as poutine\n",
    "import torch\n",
    "from pyro.contrib.examples.bart import load_bart_od\n",
    "from pyro.contrib.forecast import Forecaster, ForecastingModel, eval_crps\n",
    "from pyro.infer.reparam import LocScaleReparam, StableReparam\n",
    "from pyro.ops.tensor_utils import periodic_cumsum, periodic_features, periodic_repeat\n",
    "from pyro.ops.stats import quantile\n",
    "import matplotlib.pyplot as plt\n",
    "\n",
    "from bart_uni2 import Model\n",
    "\n",
    "%matplotlib inline\n",
    "pyro.enable_validation(True)\n",
    "logging.getLogger(\"pyro\").setLevel(logging.DEBUG)\n",
    "logging.getLogger(\"pyro\").handlers[0].setLevel(logging.DEBUG)"
   ]
  },
  {
   "cell_type": "code",
   "execution_count": null,
   "metadata": {},
   "outputs": [],
   "source": [
    "dataset = load_bart_od()\n",
    "print(dataset.keys())\n",
    "print(dataset[\"counts\"].shape)\n",
    "print(\" \".join(dataset[\"stations\"]))\n",
    "\n",
    "T, O, D = dataset[\"counts\"].shape\n",
    "data = dataset[\"counts\"].reshape(T, -1).sum(-1, keepdim=True).log1p()\n",
    "print(dataset[\"counts\"].shape, data.shape)\n",
    "covariates = periodic_features(len(data), 365.25 * 24, 7 * 24)"
   ]
  },
  {
   "cell_type": "code",
   "execution_count": null,
   "metadata": {},
   "outputs": [],
   "source": [
    "T0 = 0\n",
    "T1 = 4 * 365 * 24\n",
    "T2 = T1 + 4 * 7 * 24"
   ]
  },
  {
   "cell_type": "code",
   "execution_count": null,
   "metadata": {},
   "outputs": [],
   "source": [
    "def train(dist_type):\n",
    "    pyro.clear_param_store()\n",
    "    pyro.set_rng_seed(20200313)\n",
    "    forecaster = Forecaster(Model(dist_type), data[:T1], covariates[:T1],\n",
    "                            learning_rate=0.1, clip_norm=50, num_steps=2001, log_every=100)\n",
    "    for name, value in forecaster.guide.median().items():\n",
    "        if value.numel() == 1:\n",
    "            print(\"{} = {:0.4g}\".format(name, value.item()))\n",
    "    return forecaster\n",
    "            \n",
    "def plot(forecaster):\n",
    "    samples = forecaster(data[:T1], covariates[:T2], num_samples=100)\n",
    "    samples = samples.clamp(min=0)\n",
    "    p10, p50, p90 = quantile(samples, (0.1, 0.5, 0.9)).squeeze(-1)\n",
    "    crps = eval_crps(samples, data[T1:T2])\n",
    "    print(samples.shape, p10.shape)\n",
    "\n",
    "    plt.figure(figsize=(9, 3))\n",
    "    plt.fill_between(torch.arange(T1, T2), p10, p90, color=\"red\", alpha=0.3)\n",
    "    plt.plot(torch.arange(T1, T2), p50, 'r-', lw=1, label='forecast')\n",
    "    plt.plot(data, 'k-', label='truth', lw=1)\n",
    "    plt.title(\"Total hourly ridership (CRPS = {:0.3g})\".format(crps))\n",
    "    plt.ylabel(\"log1p(# rides)\")\n",
    "    plt.xlabel(\"Hour after 2011-01-01\")\n",
    "    plt.xlim(T1 - 24 * 7, T2)\n",
    "    plt.legend(loc=\"best\");"
   ]
  },
  {
   "cell_type": "code",
   "execution_count": null,
   "metadata": {},
   "outputs": [],
   "source": [
    "forecaster = train(\"normal\")\n",
    "plot(forecaster)"
   ]
  },
  {
   "cell_type": "code",
   "execution_count": null,
   "metadata": {},
   "outputs": [],
   "source": [
    "forecaster = train(\"stable\")\n",
    "plot(forecaster)"
   ]
  },
  {
   "cell_type": "code",
   "execution_count": null,
   "metadata": {},
   "outputs": [],
   "source": [
    "forecaster = train(\"studentt\")\n",
    "plot(forecaster)"
   ]
  },
  {
   "cell_type": "code",
   "execution_count": null,
   "metadata": {},
   "outputs": [],
   "source": []
  }
 ],
 "metadata": {
  "kernelspec": {
   "display_name": "Python 3",
   "language": "python",
   "name": "python3"
  },
  "language_info": {
   "codemirror_mode": {
    "name": "ipython",
    "version": 3
   },
   "file_extension": ".py",
   "mimetype": "text/x-python",
   "name": "python",
   "nbconvert_exporter": "python",
   "pygments_lexer": "ipython3",
   "version": "3.7.2"
  }
 },
 "nbformat": 4,
 "nbformat_minor": 2
}
