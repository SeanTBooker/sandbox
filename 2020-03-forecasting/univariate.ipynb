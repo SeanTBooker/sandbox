{
 "cells": [
  {
   "cell_type": "markdown",
   "metadata": {},
   "source": [
    "# Univariate Stable parameter estimation"
   ]
  },
  {
   "cell_type": "code",
   "execution_count": null,
   "metadata": {},
   "outputs": [],
   "source": [
    "from collections import defaultdict\n",
    "import pickle\n",
    "import numpy as np\n",
    "from matplotlib import pyplot as plt\n",
    "\n",
    "%matplotlib inline"
   ]
  },
  {
   "cell_type": "code",
   "execution_count": null,
   "metadata": {},
   "outputs": [],
   "source": [
    "with open(\"results/univariate/summary.pkl\", \"rb\") as f:\n",
    "    summary = pickle.load(f)\n",
    "print(len(summary))"
   ]
  },
  {
   "cell_type": "code",
   "execution_count": null,
   "metadata": {},
   "outputs": [],
   "source": [
    "methods = set()\n",
    "errors = defaultdict(list)\n",
    "cols = [set() for _ in range(5)]\n",
    "for r in summary:\n",
    "    for k, v in r[\"error\"].items():\n",
    "        key = k, r[\"name\"], r[\"truth\"][\"stability\"], r[\"truth\"][\"skew\"], r[\"num_samples\"]\n",
    "        errors[key].append(v)\n",
    "        for k, c in zip(key, cols):\n",
    "            c.add(k)\n",
    "errors = {k: np.mean(v) for k, v in errors.items()}\n",
    "cols = [list(sorted(c)) for c in cols]\n",
    "print(len(errors))"
   ]
  },
  {
   "cell_type": "code",
   "execution_count": null,
   "metadata": {},
   "outputs": [],
   "source": [
    "for k in reversed(cols[0]):\n",
    "    print(\"{}\".format(k))\n",
    "    for name in cols[1]:\n",
    "        print(\"  {}\".format(name))\n",
    "        for stability in reversed(cols[2]):\n",
    "            for skew in reversed(cols[3]):\n",
    "                if k == \"skew\" and skew == 0:\n",
    "                    continue\n",
    "                e = []\n",
    "                for num_samples in cols[4]:\n",
    "                    e.append(errors[k, name, stability, skew, num_samples])\n",
    "                print(\"    {:0.1f} {:0.1f} | {:0.3g} {:0.3g} {:0.3g}\"\n",
    "                      .format(stability, skew, *e))"
   ]
  },
  {
   "cell_type": "code",
   "execution_count": null,
   "metadata": {},
   "outputs": [],
   "source": []
  }
 ],
 "metadata": {
  "kernelspec": {
   "display_name": "Python 3",
   "language": "python",
   "name": "python3"
  },
  "language_info": {
   "codemirror_mode": {
    "name": "ipython",
    "version": 3
   },
   "file_extension": ".py",
   "mimetype": "text/x-python",
   "name": "python",
   "nbconvert_exporter": "python",
   "pygments_lexer": "ipython3",
   "version": "3.7.2"
  }
 },
 "nbformat": 4,
 "nbformat_minor": 2
}
