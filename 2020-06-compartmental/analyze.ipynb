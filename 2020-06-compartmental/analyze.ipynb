{
 "cells": [
  {
   "cell_type": "markdown",
   "metadata": {},
   "source": [
    "# Analysis"
   ]
  },
  {
   "cell_type": "code",
   "execution_count": null,
   "metadata": {},
   "outputs": [],
   "source": [
    "import os\n",
    "import glob\n",
    "import json\n",
    "import pickle\n",
    "from collections import defaultdict\n",
    "\n",
    "import matplotlib.pyplot as plt\n",
    "%matplotlib inline\n",
    "%config InlineBackend.figure_formats = ['svg']"
   ]
  },
  {
   "cell_type": "code",
   "execution_count": null,
   "metadata": {},
   "outputs": [],
   "source": [
    "results = []\n",
    "for filename in glob.glob(\"results/*.pkl\"):\n",
    "    with open(filename, \"rb\") as f:\n",
    "        results.append(pickle.load(f))\n",
    "print(len(results))\n",
    "print(results[0].keys())\n",
    "print(results[0][\"times\"].keys())\n",
    "print(results[0][\"evaluate\"].keys())\n",
    "print(results[0][\"evaluate\"][\"R0\"].keys())\n",
    "print(results[0][\"infer\"].keys())\n",
    "print(results[0][\"infer\"][\"R0\"].keys())"
   ]
  },
  {
   "cell_type": "code",
   "execution_count": null,
   "metadata": {},
   "outputs": [],
   "source": [
    "def plot_accuracy(variable, metric):\n",
    "    view = defaultdict(list)\n",
    "    for result in results:\n",
    "        args = result['args']\n",
    "        view[args.infer, args.num_bins, args.svi_steps].append(result)\n",
    "    markers = [\"o\", \"d\", \"s\", \"<\", \"v\", \"^\", \">\"]\n",
    "    assert len(view) == len(markers)\n",
    "\n",
    "    plt.figure(figsize=(6, 5)).patch.set_color(\"white\")\n",
    "    for (key, value), marker in zip(sorted(view.items()), markers):\n",
    "        algo, num_bins, svi_steps = key\n",
    "        if algo == \"svi\":\n",
    "            label = \"SVI steps={}\".format(svi_steps)\n",
    "        elif algo == \"mcmc\":\n",
    "            if num_bins == 1:\n",
    "                label = \"MCMC relaxed\"\n",
    "            else:\n",
    "                label = \"MCMC num_bins={}\".format(num_bins)\n",
    "        X = [v[\"times\"][\"infer\"] for v in value]\n",
    "        Y = [v[\"evaluate\"][variable][metric] for v in value]\n",
    "        plt.scatter(X, Y, marker=marker, label=label, alpha=0.8)\n",
    "    plt.ylim(0, None)\n",
    "    plt.xscale(\"log\")\n",
    "    plt.xlabel(\"inference time (sec)\")\n",
    "    plt.ylabel(metric)\n",
    "    plt.title(f\"{variable} accuracy\")\n",
    "    plt.legend(loc=\"best\", prop={'size': 8})\n",
    "    plt.tight_layout()"
   ]
  },
  {
   "cell_type": "code",
   "execution_count": null,
   "metadata": {},
   "outputs": [],
   "source": [
    "plot_accuracy(\"R0\", \"crps\")"
   ]
  },
  {
   "cell_type": "code",
   "execution_count": null,
   "metadata": {},
   "outputs": [],
   "source": [
    "plot_accuracy(\"rho\", \"crps\")"
   ]
  },
  {
   "cell_type": "code",
   "execution_count": null,
   "metadata": {
    "scrolled": false
   },
   "outputs": [],
   "source": [
    "plot_accuracy(\"obs\", \"crps\")"
   ]
  },
  {
   "cell_type": "code",
   "execution_count": null,
   "metadata": {},
   "outputs": [],
   "source": [
    "plot_accuracy(\"I\", \"crps\")"
   ]
  },
  {
   "cell_type": "code",
   "execution_count": null,
   "metadata": {},
   "outputs": [],
   "source": [
    "def plot_convergence(variable, metrics=[\"n_eff\", \"r_hat\"]):\n",
    "    view = defaultdict(list)\n",
    "    for result in results:\n",
    "        args = result['args']\n",
    "        if args.infer == \"mcmc\":\n",
    "            view[args.num_bins].append(result)\n",
    "    markers = [\"o\", \"d\", \"s\"]\n",
    "    assert len(view) == len(markers)\n",
    "\n",
    "    fig, axes = plt.subplots(len(metrics), 1, figsize=(6, 5), sharex=True)\n",
    "    fig.patch.set_color(\"white\")\n",
    "    for (num_bins, value), marker in zip(sorted(view.items()), markers):\n",
    "        if num_bins == 1:\n",
    "            label = \"MCMC relaxed\"\n",
    "        else:\n",
    "            label = \"MCMC num_bins={}\".format(num_bins)\n",
    "        X = [v[\"times\"][\"infer\"] for v in value]\n",
    "        for metric, ax in zip(metrics, axes):\n",
    "            Y = [v[\"infer\"][variable][metric] for v in value]\n",
    "            ax.scatter(X, Y, marker=marker, label=label, alpha=0.8)\n",
    "            ax.set_xscale(\"log\")\n",
    "            ax.set_ylabel(metric)\n",
    "    axes[0].set_title(f\"{variable} convergence\")\n",
    "    axes[-1].legend(loc=\"best\", prop={'size': 8})\n",
    "    axes[-1].set_xlabel(\"inference time (sec)\")\n",
    "    plt.subplots_adjust(hspace=0)"
   ]
  },
  {
   "cell_type": "code",
   "execution_count": null,
   "metadata": {},
   "outputs": [],
   "source": [
    "plot_convergence(\"R0\")"
   ]
  },
  {
   "cell_type": "code",
   "execution_count": null,
   "metadata": {},
   "outputs": [],
   "source": [
    "plot_convergence(\"rho\")"
   ]
  },
  {
   "cell_type": "code",
   "execution_count": null,
   "metadata": {},
   "outputs": [],
   "source": [
    "plot_convergence(\"auxiliary_haar_split_0\")"
   ]
  },
  {
   "cell_type": "code",
   "execution_count": null,
   "metadata": {},
   "outputs": [],
   "source": []
  }
 ],
 "metadata": {
  "kernelspec": {
   "display_name": "Python 3",
   "language": "python",
   "name": "python3"
  },
  "language_info": {
   "codemirror_mode": {
    "name": "ipython",
    "version": 3
   },
   "file_extension": ".py",
   "mimetype": "text/x-python",
   "name": "python",
   "nbconvert_exporter": "python",
   "pygments_lexer": "ipython3",
   "version": "3.7.7"
  }
 },
 "nbformat": 4,
 "nbformat_minor": 4
}
